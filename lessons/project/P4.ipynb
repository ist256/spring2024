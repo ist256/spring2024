{
 "cells": [
  {
   "cell_type": "markdown",
   "metadata": {},
   "source": [
    "# IST256 Project Deliverable 4 (P4)\n",
    "\n",
    "## Phase 4: Demo Pitch and Reflection\n",
    "\n",
    "\n",
    "In this final phase, provide two videos 1) a recorded pitch of your project and 2) a project reflection.\n",
    "\n",
    "### Help! How do I record Video, Audio and the Screen?\n",
    "\n",
    "If you don't know how to do this or don't have software, you can use the Universty's Kaltura system:\n",
    "\n",
    "1. [https://video.syr.edu](https://video.syr.edu) click to login and login with your NetID and Password.\n",
    "2. Once you are logged in click **Add New** -> **Kaltura Capture**\n",
    "3. Click the link to download and install Kaltura Capture on **Windows** or **Mac**\n",
    "4. After it installed use it to record your screen, video and microphone.\n",
    "5. When you finish recording, return to [https://video.syr.edu](https://video.syr.edu)\n",
    "6. Edit the video and select **Publish** -> **Unlisted**\n",
    "7. Go to the **Share** tab on the video to get a link to the video you can share.\n",
    "8. Double-check you shared it properly! Ask a friend to open it or try viewing it on another device or in private mode.\n",
    "9. Copy the link and paste it here to share with your instructor.\n"
   ]
  },
  {
   "cell_type": "markdown",
   "metadata": {},
   "source": [
    "### Step 1: Code Pitch Demo\n",
    "\n",
    "Create a video under 5 minutes in length, which:\n",
    "\n",
    "- Explains your project at a very high level: give us the elevator pitch. \n",
    "- Demonstrates how your program works by actually runnning it. Make sure to demonstrate how your code solves the problem you set it out to and demonstrate it handles errors and bad input. \n",
    "- Explain what your code is doing, but DO NOT talk over or review specific lines of code.  For example you might say, “Now that you’ve entered a location, my program is finding the best price on hotels. It does this by searching 4 online service providers.”\n",
    "- Most of this should be a voice-over screen capture of the running program,.\n",
    "- Again don't show us code, we can look at that. Give us your best shark tank or infomercial sales pitch. Focus us on what your program does, the problem it solves and then demonstrate it working.\n",
    "\n",
    "`--== Double-click and place the URL to your video reflection  below this line ==--`\n",
    "\n",
    "\n"
   ]
  },
  {
   "cell_type": "markdown",
   "metadata": {},
   "source": [
    "### Step 2: Project Reflection\n",
    "\n",
    "Provide A video reflection no more than 5 minutes long which covers what you learned from the experience of building your project. Your journal should help you to remember what to say here. The reflection should touch upon the following SPECIFICS:\n",
    "\n",
    "- Your successes and failures. \n",
    "- What you needed to change and why. \n",
    "- What would you do differently next time? \n",
    "- How would you improve it if you had more time? \n",
    "- What did you learn from the experience?\n",
    "\n",
    "\n",
    "You should appear in the video. This should not be a voice over screen. Many students use their phones to record their reflections. Your reflection helps us to understand the process which led to the code we see in your P3 submission.\n",
    "\n",
    "Upload the video to YouTube, Vimeo, video.syr.edu or some other video hosting service. Make sure the URL is accessible and we don't need to log-in to view it.\n",
    "\n",
    "`--== Double-click and place the URL to your video reflection  below  ==--`\n",
    "\n",
    "\n"
   ]
  },
  {
   "cell_type": "markdown",
   "metadata": {},
   "source": [
    "### Do Your Code Links Work?\n",
    "\n",
    "**IMPORANT**: If your links do not work, the assumption will be you did not complete the videos. Please double-check that the link. We will not be chasing you down for the correct links! Make sure they work!"
   ]
  },
  {
   "cell_type": "code",
   "execution_count": null,
   "metadata": {},
   "outputs": [],
   "source": [
    "# run this code to turn in your work!\n",
    "from coursetools.submission import Submission\n",
    "Submission().submit()"
   ]
  },
  {
   "cell_type": "code",
   "execution_count": null,
   "metadata": {},
   "outputs": [],
   "source": []
  }
 ],
 "metadata": {
  "kernelspec": {
   "display_name": "Python 3 (ipykernel)",
   "language": "python",
   "name": "python3"
  },
  "language_info": {
   "codemirror_mode": {
    "name": "ipython",
    "version": 3
   },
   "file_extension": ".py",
   "mimetype": "text/x-python",
   "name": "python",
   "nbconvert_exporter": "python",
   "pygments_lexer": "ipython3",
   "version": "3.9.7"
  },
  "varInspector": {
   "cols": {
    "lenName": 16,
    "lenType": 16,
    "lenVar": 40
   },
   "kernels_config": {
    "python": {
     "delete_cmd_postfix": "",
     "delete_cmd_prefix": "del ",
     "library": "var_list.py",
     "varRefreshCmd": "print(var_dic_list())"
    },
    "r": {
     "delete_cmd_postfix": ") ",
     "delete_cmd_prefix": "rm(",
     "library": "var_list.r",
     "varRefreshCmd": "cat(var_dic_list()) "
    }
   },
   "types_to_exclude": [
    "module",
    "function",
    "builtin_function_or_method",
    "instance",
    "_Feature"
   ],
   "window_display": false
  }
 },
 "nbformat": 4,
 "nbformat_minor": 4
}
