{
 "cells": [
  {
   "cell_type": "markdown",
   "metadata": {},
   "source": [
    "### This is a Python module used to support the CodeJournal.ipynb\n",
    "\n",
    "If you need to put an entry into your code Journal, run that notebook instead."
   ]
  },
  {
   "cell_type": "code",
   "execution_count": 13,
   "metadata": {},
   "outputs": [],
   "source": [
    "# This is a python module to support CodeJournal\n",
    "\n",
    "import pandas as pd\n",
    "from ipywidgets import interact, interactive, fixed, interact_manual\n",
    "import ipywidgets as widgets\n",
    "from datetime import datetime\n",
    "from dateutil import parser, tz\n",
    "from IPython.display import display, HTML, clear_output\n",
    "import logging\n",
    "\n",
    "logging.basicConfig(format='%(asctime)s %(levelname)s ==> %(message)s', level=logging.INFO,datefmt='%m/%d/%Y %I:%M:%S %p')\n",
    "\n",
    "from coursetools.journal import Journal\n",
    "j = Journal(debug=True)\n",
    "try:\n",
    "    j.load()\n",
    "except:\n",
    "    j.init()\n",
    "\n",
    "def new_journal_entry():\n",
    "\n",
    "    def on_button_clicked(b):\n",
    "        with output:\n",
    "            df = j.load()\n",
    "            row = { \"Date\" :  journal_date.value, \"Hours\" : journal_hours.value, \"Comments\" : journal_text.value }\n",
    "            row_df = pd.DataFrame(row, index=[0])\n",
    "            df = pd.concat([df, row_df])\n",
    "            j.save(df)\n",
    "            print(\"Done - click menu button for another entry\")\n",
    "            journal_button.disabled = True\n",
    "\n",
    "    journal_date = widgets.DatePicker(\n",
    "        description='Date: ',\n",
    "        disabled=True,\n",
    "        value=datetime.now()\n",
    "    )\n",
    "\n",
    "    journal_hours = widgets.FloatSlider(\n",
    "        value=0.0,\n",
    "        min=0.0,\n",
    "        max=8.0,\n",
    "        step=0.5,\n",
    "        description='Hours:',\n",
    "        disabled=False,\n",
    "        continuous_update=False,\n",
    "        orientation='horizontal',\n",
    "        readout=True,\n",
    "        readout_format='.1f',\n",
    "    )\n",
    "\n",
    "    journal_text = widgets.Textarea(\n",
    "        value='',\n",
    "        placeholder='What did you work on?',\n",
    "        description='Description:',\n",
    "        disabled=False\n",
    "    )\n",
    "\n",
    "    journal_button = widgets.Button(\n",
    "            description=\"Log Entry\",\n",
    "            icon=\"fa-check-circle\",\n",
    "            disabled = False\n",
    "    )\n",
    "\n",
    "    output = widgets.Output()\n",
    "\n",
    "    display(HTML(f\"<h3>Record New Journal Entry</h3>\"))\n",
    "    display(journal_date, journal_hours, journal_text, journal_button, output)\n",
    "    journal_button.on_click(on_button_clicked)\n",
    "\n",
    "def main_menu():\n",
    "    new_journal = widgets.Button(\n",
    "        description='New Journal Entry',\n",
    "        disabled=False,\n",
    "        button_style='info',\n",
    "        tooltip='Click me',\n",
    "        icon='plus'\n",
    "    )\n",
    "    show_journal = widgets.Button(\n",
    "        description='Show Journal',\n",
    "        disabled=False,\n",
    "        button_style='info',\n",
    "        tooltip='Click me',\n",
    "        icon='list'\n",
    "    )\n",
    "    show_total = widgets.Button(\n",
    "        description='Total Hours',\n",
    "        disabled=False,\n",
    "        button_style='info',\n",
    "        tooltip='Click me',\n",
    "        icon='magic'\n",
    "    )\n",
    "\n",
    "    display(HTML(f\"<h2>{j.properties['netid']}'s Code Journal</h2>\"))\n",
    "    display(widgets.HBox((new_journal,show_journal,show_total)))\n",
    "\n",
    "    out = widgets.Output()\n",
    "    display(out)\n",
    "\n",
    "    def on_new_journal_button_clicked(b):\n",
    "        with out:\n",
    "            clear_output()\n",
    "            new_journal_entry()\n",
    "\n",
    "    def on_show_journal_button_clicked(b):\n",
    "        with out:\n",
    "            clear_output()\n",
    "            display(HTML(f\"<h3>Show Journal</h3>\"))\n",
    "            df = j.load()\n",
    "            with pd.option_context('display.max_rows', None, 'display.max_columns', 3, 'display.max_colwidth', 100):\n",
    "                display(df.sort_values(\"Date\",ascending=False))\n",
    "\n",
    "    def on_show_total_button_clicked(b):\n",
    "        import random\n",
    "        with out:\n",
    "            clear_output()\n",
    "            df = j.load()\n",
    "            total = df['Hours'].sum()\n",
    "            display(HTML(f\"<h3>Total Journal Hours {total}</h3>\"))\n",
    "\n",
    "    new_journal.on_click(on_new_journal_button_clicked)\n",
    "    show_journal.on_click(on_show_journal_button_clicked)\n",
    "    show_total.on_click(on_show_total_button_clicked)"
   ]
  },
  {
   "cell_type": "code",
   "execution_count": 14,
   "metadata": {},
   "outputs": [
    {
     "data": {
      "text/html": [
       "<h2>mafudge@syr.edu's Code Journal</h2>"
      ],
      "text/plain": [
       "<IPython.core.display.HTML object>"
      ]
     },
     "metadata": {},
     "output_type": "display_data"
    },
    {
     "data": {
      "application/vnd.jupyter.widget-view+json": {
       "model_id": "3e12c6d4b4e84206b7354248b2720b69",
       "version_major": 2,
       "version_minor": 0
      },
      "text/plain": [
       "HBox(children=(Button(button_style='info', description='New Journal Entry', icon='plus', style=ButtonStyle(), …"
      ]
     },
     "metadata": {},
     "output_type": "display_data"
    },
    {
     "data": {
      "application/vnd.jupyter.widget-view+json": {
       "model_id": "99fd65024ab04268afbf61d6cb9f5567",
       "version_major": 2,
       "version_minor": 0
      },
      "text/plain": [
       "Output()"
      ]
     },
     "metadata": {},
     "output_type": "display_data"
    }
   ],
   "source": [
    "if False:\n",
    "    main_menu()"
   ]
  },
  {
   "cell_type": "code",
   "execution_count": 8,
   "metadata": {},
   "outputs": [],
   "source": []
  },
  {
   "cell_type": "code",
   "execution_count": null,
   "metadata": {},
   "outputs": [],
   "source": []
  }
 ],
 "metadata": {
  "kernelspec": {
   "display_name": "Python 3 (ipykernel)",
   "language": "python",
   "name": "python3"
  },
  "language_info": {
   "codemirror_mode": {
    "name": "ipython",
    "version": 3
   },
   "file_extension": ".py",
   "mimetype": "text/x-python",
   "name": "python",
   "nbconvert_exporter": "python",
   "pygments_lexer": "ipython3",
   "version": "3.11.7"
  }
 },
 "nbformat": 4,
 "nbformat_minor": 4
}
