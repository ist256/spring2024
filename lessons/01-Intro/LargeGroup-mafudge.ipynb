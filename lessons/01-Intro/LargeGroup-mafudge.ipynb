{
 "cells": [
  {
   "cell_type": "markdown",
   "metadata": {},
   "source": [
    "# Code Samples From Large Group\n",
    "\n",
    "Place your notes and code samples from large group here. Your professor will share with you his code from large group."
   ]
  },
  {
   "cell_type": "code",
   "execution_count": 1,
   "metadata": {},
   "outputs": [
    {
     "name": "stdin",
     "output_type": "stream",
     "text": [
      "Enter your name mike\n"
     ]
    },
    {
     "name": "stdout",
     "output_type": "stream",
     "text": [
      "Hello\n"
     ]
    }
   ],
   "source": [
    "input(\"Enter your name\")\n",
    "print(\"Hello\")\n",
    "\n",
    "# this program has no variables thus we can't do anything with the input"
   ]
  },
  {
   "cell_type": "code",
   "execution_count": 2,
   "metadata": {
    "tags": []
   },
   "outputs": [
    {
     "name": "stdin",
     "output_type": "stream",
     "text": [
      "Enter your name dave\n"
     ]
    },
    {
     "name": "stdout",
     "output_type": "stream",
     "text": [
      "Hello dave\n"
     ]
    }
   ],
   "source": [
    "name = input(\"Enter your name\")\n",
    "print(\"Hello\", name)"
   ]
  },
  {
   "cell_type": "code",
   "execution_count": 3,
   "metadata": {
    "tags": []
   },
   "outputs": [
    {
     "name": "stdout",
     "output_type": "stream",
     "text": [
      "100\n"
     ]
    }
   ],
   "source": [
    "age = 100\n",
    "print(age)"
   ]
  },
  {
   "cell_type": "code",
   "execution_count": 4,
   "metadata": {
    "tags": []
   },
   "outputs": [
    {
     "name": "stdout",
     "output_type": "stream",
     "text": [
      "Tony Basket-Weaving 4.0\n"
     ]
    }
   ],
   "source": [
    "gpa = 4.0\n",
    "major = \"Basket-Weaving\"\n",
    "name = \"Tony\"\n",
    "print(name, major, gpa)"
   ]
  },
  {
   "cell_type": "markdown",
   "metadata": {},
   "source": [
    "\"My name is ??? my major is ??? my gpa is ???\""
   ]
  },
  {
   "cell_type": "code",
   "execution_count": 11,
   "metadata": {
    "tags": []
   },
   "outputs": [
    {
     "name": "stdout",
     "output_type": "stream",
     "text": [
      "My name is Tony . My major is  Basket-Weaving my gpa is 4.0\n"
     ]
    }
   ],
   "source": [
    "print(\"My name is\", name, \". My major is \", major, \"my gpa is\", gpa)"
   ]
  },
  {
   "cell_type": "code",
   "execution_count": 13,
   "metadata": {
    "tags": []
   },
   "outputs": [
    {
     "name": "stdout",
     "output_type": "stream",
     "text": [
      "My name is Tony. My major is Basket-Weaving. My gpa is 4.0.\n"
     ]
    }
   ],
   "source": [
    "print(f\"My name is {name}. My major is {major}. My gpa is {gpa}.\")"
   ]
  },
  {
   "cell_type": "markdown",
   "metadata": {},
   "source": [
    "# End To End Example\n",
    "### Limerick Generator!\n",
    "\n",
    "- Write a program to prompt to create a custom limerick poem based on the inputs.\n",
    "\n",
    "Here's the story I want to make:\n",
    "\n",
    "- There once was a man named `[mans-name]`. He liked to eat `[food-rhymes-with-name]`. One day he ate so much `[food-rhymes-with-name]`, that he got the `[ailment]`, and had to run to the `[place-rhymes-with-name]`.\n",
    "- Input? Output? The Plan / Process?"
   ]
  },
  {
   "cell_type": "markdown",
   "metadata": {},
   "source": [
    "# inputs\n",
    "\n",
    "- person's name\n",
    "- food that rhymes with person's name\n",
    "- aliment (stomach ache, skin rash)\n",
    "- place that rhymes with person's name\n",
    "\n",
    "# outputs\n",
    "\n",
    "There once was a man named [mans-name].   \n",
    "He liked to eat [food-rhymes-with-name].   \n",
    "One day he ate so much [food-rhymes-with-name], that he got the [ailment],   \n",
    "and had to run to the [place-rhymes-with-name].  \n",
    "\n",
    "# plan\n",
    "\n",
    "- interpolate the inputs into the story\n"
   ]
  },
  {
   "cell_type": "code",
   "execution_count": 21,
   "metadata": {
    "tags": []
   },
   "outputs": [
    {
     "name": "stdin",
     "output_type": "stream",
     "text": [
      "Enter a person's name Fellow\n",
      "Enter a food that rhymes with Fellow Marshmellow\n",
      "Enter an ailment a brian tumor\n",
      "Enter place that rhymes with Fellow The bellow\n"
     ]
    },
    {
     "name": "stdout",
     "output_type": "stream",
     "text": [
      "There once was a person named Fellow\n",
      "They liked to eat Marshmellow.\n",
      "One day they so much Marshmellow,\n",
      "they got a brian tumor,\n",
      "and had to run to the The bellow!\n"
     ]
    }
   ],
   "source": [
    "name = input(\"Enter a person's name\")\n",
    "food = input(f\"Enter a food that rhymes with {name}\")\n",
    "aliment = input(\"Enter an ailment\")\n",
    "place = input(f\"Enter place that rhymes with {name}\")\n",
    "\n",
    "print(f\"There once was a person named {name}\")\n",
    "print(f\"They liked to eat {food}.\")\n",
    "print(f\"One day they so much {food},\")\n",
    "print(f\"they got {aliment},\")\n",
    "print(f\"and had to run to the {place}!\")\n"
   ]
  },
  {
   "cell_type": "code",
   "execution_count": null,
   "metadata": {},
   "outputs": [],
   "source": []
  }
 ],
 "metadata": {
  "kernelspec": {
   "display_name": "Python 3 (ipykernel)",
   "language": "python",
   "name": "python3"
  },
  "language_info": {
   "codemirror_mode": {
    "name": "ipython",
    "version": 3
   },
   "file_extension": ".py",
   "mimetype": "text/x-python",
   "name": "python",
   "nbconvert_exporter": "python",
   "pygments_lexer": "ipython3",
   "version": "3.11.7"
  },
  "varInspector": {
   "cols": {
    "lenName": 16,
    "lenType": 16,
    "lenVar": 40
   },
   "kernels_config": {
    "python": {
     "delete_cmd_postfix": "",
     "delete_cmd_prefix": "del ",
     "library": "var_list.py",
     "varRefreshCmd": "print(var_dic_list())"
    },
    "r": {
     "delete_cmd_postfix": ") ",
     "delete_cmd_prefix": "rm(",
     "library": "var_list.r",
     "varRefreshCmd": "cat(var_dic_list()) "
    }
   },
   "types_to_exclude": [
    "module",
    "function",
    "builtin_function_or_method",
    "instance",
    "_Feature"
   ],
   "window_display": false
  }
 },
 "nbformat": 4,
 "nbformat_minor": 4
}
