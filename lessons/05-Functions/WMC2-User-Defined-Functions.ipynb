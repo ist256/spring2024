{
 "cells": [
  {
   "cell_type": "markdown",
   "metadata": {},
   "source": [
    "# Watch Me Code 2: User-Defined Functions\n",
    "\n",
    "User Defined Functions\n"
   ]
  },
  {
   "cell_type": "code",
   "execution_count": 3,
   "metadata": {
    "collapsed": true,
    "jupyter": {
     "outputs_hidden": true
    }
   },
   "outputs": [],
   "source": [
    "## Function: rectangle_area\n",
    "## Arguments (inputs): length and Width\n",
    "## Returns (output): area\n",
    "\n",
    "def rectangle_area(length, width):\n",
    "    area = length * width\n",
    "    return area"
   ]
  },
  {
   "cell_type": "code",
   "execution_count": 4,
   "metadata": {},
   "outputs": [
    {
     "name": "stdout",
     "output_type": "stream",
     "text": [
      "50\n"
     ]
    }
   ],
   "source": [
    "result = rectangle_area(10,5)\n",
    "print(result)"
   ]
  },
  {
   "cell_type": "code",
   "execution_count": 6,
   "metadata": {},
   "outputs": [
    {
     "name": "stdout",
     "output_type": "stream",
     "text": [
      "100\n"
     ]
    }
   ],
   "source": [
    "# named arguments example\n",
    "side = 10\n",
    "area_of_a_square = rectangle_area(length=side, width=side)\n",
    "print (area_of_a_square)"
   ]
  },
  {
   "cell_type": "code",
   "execution_count": 9,
   "metadata": {
    "collapsed": true,
    "jupyter": {
     "outputs_hidden": true
    }
   },
   "outputs": [],
   "source": [
    "## Function: rectangle_perimeter\n",
    "## Arguments (inputs): length and Width\n",
    "## Returns (output): perimeter\n",
    "\n",
    "def rectangle_perimeter(length, width):\n",
    "    perm = 2 * (length + width)\n",
    "    return perm\n"
   ]
  },
  {
   "cell_type": "code",
   "execution_count": 10,
   "metadata": {},
   "outputs": [
    {
     "name": "stdout",
     "output_type": "stream",
     "text": [
      "300\n"
     ]
    }
   ],
   "source": [
    "fence_length = rectangle_perimeter(width=100,length=50)\n",
    "print (fence_length)"
   ]
  },
  {
   "cell_type": "code",
   "execution_count": 5,
   "metadata": {},
   "outputs": [
    {
     "name": "stdout",
     "output_type": "stream",
     "text": [
      "Collecting gtts\n",
      "  Downloading gTTS-2.2.4-py3-none-any.whl (26 kB)\n",
      "Requirement already satisfied: six in /opt/conda/lib/python3.9/site-packages (from gtts) (1.16.0)\n",
      "Requirement already satisfied: click in /opt/conda/lib/python3.9/site-packages (from gtts) (8.0.3)\n",
      "Requirement already satisfied: requests in /opt/conda/lib/python3.9/site-packages (from gtts) (2.27.1)\n",
      "Requirement already satisfied: idna<4,>=2.5 in /opt/conda/lib/python3.9/site-packages (from requests->gtts) (3.3)\n",
      "Requirement already satisfied: urllib3<1.27,>=1.21.1 in /opt/conda/lib/python3.9/site-packages (from requests->gtts) (1.26.8)\n",
      "Requirement already satisfied: charset-normalizer~=2.0.0 in /opt/conda/lib/python3.9/site-packages (from requests->gtts) (2.0.11)\n",
      "Requirement already satisfied: certifi>=2017.4.17 in /opt/conda/lib/python3.9/site-packages (from requests->gtts) (2021.10.8)\n",
      "Installing collected packages: gtts\n",
      "Successfully installed gtts-2.2.4\n"
     ]
    }
   ],
   "source": [
    "! pip install gtts"
   ]
  },
  {
   "cell_type": "code",
   "execution_count": 6,
   "metadata": {},
   "outputs": [],
   "source": [
    "import gtts\n",
    "from IPython.display import display, Audio"
   ]
  },
  {
   "cell_type": "code",
   "execution_count": 7,
   "metadata": {},
   "outputs": [],
   "source": [
    "def speak(text, lang='en', autoplay=True, echo=False):\n",
    "    '''\n",
    "    This will use gTTS to take your text and speak it.\n",
    "    \n",
    "    Example:\n",
    "    \n",
    "    speak(\"Hello!\")\n",
    "    '''\n",
    "    speech = gtts.gTTS(text, slow=False, lang=lang)\n",
    "    speech.save(\"demo.mp3\")\n",
    "    if echo:\n",
    "        print(text)\n",
    "    return Audio(\"demo.mp3\",autoplay=autoplay)\n"
   ]
  },
  {
   "cell_type": "code",
   "execution_count": 8,
   "metadata": {},
   "outputs": [
    {
     "data": {
      "text/html": [
       "\n",
       "                <audio  controls=\"controls\" autoplay=\"autoplay\">\n",
       "                    <source src=\"data:audio/mpeg;base64,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\" type=\"audio/mpeg\" />\n",
       "                    Your browser does not support the audio element.\n",
       "                </audio>\n",
       "              "
      ],
      "text/plain": [
       "<IPython.lib.display.Audio object>"
      ]
     },
     "execution_count": 8,
     "metadata": {},
     "output_type": "execute_result"
    }
   ],
   "source": [
    "speak('mike is here')"
   ]
  },
  {
   "cell_type": "code",
   "execution_count": null,
   "metadata": {},
   "outputs": [],
   "source": []
  }
 ],
 "metadata": {
  "anaconda-cloud": {},
  "kernelspec": {
   "display_name": "Python 3 (ipykernel)",
   "language": "python",
   "name": "python3"
  },
  "language_info": {
   "codemirror_mode": {
    "name": "ipython",
    "version": 3
   },
   "file_extension": ".py",
   "mimetype": "text/x-python",
   "name": "python",
   "nbconvert_exporter": "python",
   "pygments_lexer": "ipython3",
   "version": "3.11.3"
  },
  "varInspector": {
   "cols": {
    "lenName": 16,
    "lenType": 16,
    "lenVar": 40
   },
   "kernels_config": {
    "python": {
     "delete_cmd_postfix": "",
     "delete_cmd_prefix": "del ",
     "library": "var_list.py",
     "varRefreshCmd": "print(var_dic_list())"
    },
    "r": {
     "delete_cmd_postfix": ") ",
     "delete_cmd_prefix": "rm(",
     "library": "var_list.r",
     "varRefreshCmd": "cat(var_dic_list()) "
    }
   },
   "types_to_exclude": [
    "module",
    "function",
    "builtin_function_or_method",
    "instance",
    "_Feature"
   ],
   "window_display": false
  }
 },
 "nbformat": 4,
 "nbformat_minor": 4
}
