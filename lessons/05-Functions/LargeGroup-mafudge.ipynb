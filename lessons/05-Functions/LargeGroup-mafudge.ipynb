{
 "cells": [
  {
   "cell_type": "markdown",
   "metadata": {},
   "source": [
    "# Code Samples From Large Group\n",
    "\n",
    "Place your notes and code samples from large group here."
   ]
  },
  {
   "cell_type": "code",
   "execution_count": 1,
   "metadata": {},
   "outputs": [
    {
     "name": "stdin",
     "output_type": "stream",
     "text": [
      "Enter Number 1  10\n",
      "Enter Number 2  10\n",
      "Enter Number 3  5\n"
     ]
    },
    {
     "name": "stdout",
     "output_type": "stream",
     "text": [
      "25\n"
     ]
    }
   ],
   "source": [
    "# inputs three numbers\n",
    "# add them up\n",
    "#INPUT\n",
    "n1 = int(input(\"Enter Number 1 \"))\n",
    "n2 = int(input(\"Enter Number 2 \"))\n",
    "n3 = int(input(\"Enter Number 3 \"))\n",
    "# PROCESS\n",
    "total = n1 + n2 + n3\n",
    "# OUTPUT\n",
    "print(total)"
   ]
  },
  {
   "cell_type": "code",
   "execution_count": 8,
   "metadata": {
    "tags": []
   },
   "outputs": [],
   "source": [
    "def add_three_numbers(number1, number2, number3):\n",
    "    '''\n",
    "    This function add number1 + number2 + number3\n",
    "    and returns back the total.\n",
    "    '''\n",
    "    total = number1 + number2 + number3\n",
    "    return total"
   ]
  },
  {
   "cell_type": "code",
   "execution_count": 5,
   "metadata": {
    "tags": []
   },
   "outputs": [
    {
     "data": {
      "text/plain": [
       "6"
      ]
     },
     "execution_count": 5,
     "metadata": {},
     "output_type": "execute_result"
    }
   ],
   "source": [
    "add_three_numbers()\n",
    "\n"
   ]
  },
  {
   "cell_type": "code",
   "execution_count": 6,
   "metadata": {
    "tags": []
   },
   "outputs": [
    {
     "name": "stdin",
     "output_type": "stream",
     "text": [
      "Enter Number 1  10\n",
      "Enter Number 2  20\n",
      "Enter Number 3  30\n"
     ]
    },
    {
     "name": "stdout",
     "output_type": "stream",
     "text": [
      "60\n"
     ]
    }
   ],
   "source": [
    "#INPUT\n",
    "n1 = int(input(\"Enter Number 1 \"))\n",
    "n2 = int(input(\"Enter Number 2 \"))\n",
    "n3 = int(input(\"Enter Number 3 \"))\n",
    "# PROCESS\n",
    "total = add_three_numbers(n1, n2, n3)\n",
    "# OUTPUT\n",
    "print(total)"
   ]
  },
  {
   "cell_type": "code",
   "execution_count": 11,
   "metadata": {
    "tags": []
   },
   "outputs": [],
   "source": [
    "def pass_fail_grade(number_grade):\n",
    "    '''\n",
    "    Based on the number_grade returns \"pass\" or \"fail\"\n",
    "    when number_grade >=70 => \"pass\"\n",
    "    else \"fail\"\n",
    "    '''\n",
    "    if number_grade >= 70:\n",
    "        return \"pass\"\n",
    "    else:\n",
    "        return \"fail\""
   ]
  },
  {
   "cell_type": "code",
   "execution_count": 14,
   "metadata": {
    "tags": []
   },
   "outputs": [],
   "source": [
    "assert pass_fail_grade(100) == \"pass\"\n",
    "assert pass_fail_grade(0) == \"fail\"\n",
    "assert pass_fail_grade(70) == \"pass\""
   ]
  },
  {
   "cell_type": "code",
   "execution_count": 15,
   "metadata": {
    "tags": []
   },
   "outputs": [],
   "source": [
    "import time"
   ]
  },
  {
   "cell_type": "code",
   "execution_count": 16,
   "metadata": {
    "tags": []
   },
   "outputs": [
    {
     "data": {
      "text/plain": [
       "['CLOCK_MONOTONIC',\n",
       " 'CLOCK_MONOTONIC_RAW',\n",
       " 'CLOCK_PROCESS_CPUTIME_ID',\n",
       " 'CLOCK_REALTIME',\n",
       " 'CLOCK_THREAD_CPUTIME_ID',\n",
       " '_STRUCT_TM_ITEMS',\n",
       " '__doc__',\n",
       " '__loader__',\n",
       " '__name__',\n",
       " '__package__',\n",
       " '__spec__',\n",
       " 'altzone',\n",
       " 'asctime',\n",
       " 'clock_getres',\n",
       " 'clock_gettime',\n",
       " 'clock_gettime_ns',\n",
       " 'clock_settime',\n",
       " 'clock_settime_ns',\n",
       " 'ctime',\n",
       " 'daylight',\n",
       " 'get_clock_info',\n",
       " 'gmtime',\n",
       " 'localtime',\n",
       " 'mktime',\n",
       " 'monotonic',\n",
       " 'monotonic_ns',\n",
       " 'perf_counter',\n",
       " 'perf_counter_ns',\n",
       " 'process_time',\n",
       " 'process_time_ns',\n",
       " 'pthread_getcpuclockid',\n",
       " 'sleep',\n",
       " 'strftime',\n",
       " 'strptime',\n",
       " 'struct_time',\n",
       " 'thread_time',\n",
       " 'thread_time_ns',\n",
       " 'time',\n",
       " 'time_ns',\n",
       " 'timezone',\n",
       " 'tzname',\n",
       " 'tzset']"
      ]
     },
     "execution_count": 16,
     "metadata": {},
     "output_type": "execute_result"
    }
   ],
   "source": [
    "dir(time)"
   ]
  },
  {
   "cell_type": "code",
   "execution_count": 17,
   "metadata": {
    "tags": []
   },
   "outputs": [
    {
     "name": "stdout",
     "output_type": "stream",
     "text": [
      "Help on built-in function sleep in module time:\n",
      "\n",
      "sleep(...)\n",
      "    sleep(seconds)\n",
      "    \n",
      "    Delay execution for a given number of seconds.  The argument may be\n",
      "    a floating point number for subsecond precision.\n",
      "\n"
     ]
    }
   ],
   "source": [
    "help(time.sleep)"
   ]
  },
  {
   "cell_type": "code",
   "execution_count": 19,
   "metadata": {
    "tags": []
   },
   "outputs": [
    {
     "name": "stdout",
     "output_type": "stream",
     "text": [
      "Napping for 3 seconds\n",
      "I woke up!\n"
     ]
    }
   ],
   "source": [
    "print(\"Napping for 3 seconds\")\n",
    "time.sleep(3)\n",
    "print(\"I woke up!\")"
   ]
  },
  {
   "cell_type": "code",
   "execution_count": 20,
   "metadata": {
    "tags": []
   },
   "outputs": [
    {
     "name": "stdout",
     "output_type": "stream",
     "text": [
      "Requirement already satisfied: gTTS in /opt/conda/lib/python3.11/site-packages (2.3.2)\n",
      "Requirement already satisfied: requests<3,>=2.27 in /opt/conda/lib/python3.11/site-packages (from gTTS) (2.31.0)\n",
      "Requirement already satisfied: click<8.2,>=7.1 in /opt/conda/lib/python3.11/site-packages (from gTTS) (8.1.6)\n",
      "Requirement already satisfied: charset-normalizer<4,>=2 in /opt/conda/lib/python3.11/site-packages (from requests<3,>=2.27->gTTS) (3.1.0)\n",
      "Requirement already satisfied: idna<4,>=2.5 in /opt/conda/lib/python3.11/site-packages (from requests<3,>=2.27->gTTS) (3.4)\n",
      "Requirement already satisfied: urllib3<3,>=1.21.1 in /opt/conda/lib/python3.11/site-packages (from requests<3,>=2.27->gTTS) (2.0.2)\n",
      "Requirement already satisfied: certifi>=2017.4.17 in /opt/conda/lib/python3.11/site-packages (from requests<3,>=2.27->gTTS) (2023.5.7)\n"
     ]
    }
   ],
   "source": [
    "!pip install gTTS"
   ]
  },
  {
   "cell_type": "code",
   "execution_count": 21,
   "metadata": {
    "tags": []
   },
   "outputs": [],
   "source": [
    "import gtts"
   ]
  },
  {
   "cell_type": "code",
   "execution_count": 27,
   "metadata": {
    "tags": []
   },
   "outputs": [],
   "source": [
    "speech = gtts.gTTS(\"Stilly grown-ups Trix are for kids.\")"
   ]
  },
  {
   "cell_type": "code",
   "execution_count": 28,
   "metadata": {
    "tags": []
   },
   "outputs": [],
   "source": [
    "speech.save(\"hi.mp3\")"
   ]
  },
  {
   "cell_type": "code",
   "execution_count": 25,
   "metadata": {
    "tags": []
   },
   "outputs": [],
   "source": [
    "from IPython.display import Audio, display"
   ]
  },
  {
   "cell_type": "code",
   "execution_count": 30,
   "metadata": {
    "tags": []
   },
   "outputs": [
    {
     "data": {
      "text/html": [
       "\n",
       "                <audio  controls=\"controls\" autoplay=\"autoplay\">\n",
       "                    <source src=\"data:audio/mpeg;base64,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\" type=\"audio/mpeg\" />\n",
       "                    Your browser does not support the audio element.\n",
       "                </audio>\n",
       "              "
      ],
      "text/plain": [
       "<IPython.lib.display.Audio object>"
      ]
     },
     "metadata": {},
     "output_type": "display_data"
    }
   ],
   "source": [
    "display(Audio(\"hi.mp3\",autoplay=True))"
   ]
  },
  {
   "cell_type": "code",
   "execution_count": 38,
   "metadata": {
    "tags": []
   },
   "outputs": [],
   "source": [
    "def speak(text, auto=False):\n",
    "    speech = gtts.gTTS(text)\n",
    "    speech.save(\"hi.mp3\")\n",
    "    return Audio(\"hi.mp3\",autoplay=auto)"
   ]
  },
  {
   "cell_type": "code",
   "execution_count": 34,
   "metadata": {
    "tags": []
   },
   "outputs": [
    {
     "data": {
      "text/html": [
       "\n",
       "                <audio  controls=\"controls\" >\n",
       "                    <source src=\"data:audio/mpeg;base64,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\" type=\"audio/mpeg\" />\n",
       "                    Your browser does not support the audio element.\n",
       "                </audio>\n",
       "              "
      ],
      "text/plain": [
       "<IPython.lib.display.Audio object>"
      ]
     },
     "execution_count": 34,
     "metadata": {},
     "output_type": "execute_result"
    }
   ],
   "source": [
    "speak(\"Welcome to eye ess tea 256\")"
   ]
  },
  {
   "cell_type": "code",
   "execution_count": 39,
   "metadata": {
    "tags": []
   },
   "outputs": [
    {
     "data": {
      "application/vnd.jupyter.widget-view+json": {
       "model_id": "8fa3ecf223b1497ca9cfbaf0c4fcd87d",
       "version_major": 2,
       "version_minor": 0
      },
      "text/plain": [
       "interactive(children=(Text(value='', continuous_update=False, description='text'), Checkbox(value=True, descri…"
      ]
     },
     "metadata": {},
     "output_type": "display_data"
    }
   ],
   "source": [
    "from ipywidgets import interact_manual\n",
    "@interact_manual(text=\"\", autoplay=True)\n",
    "def on_click(text, autoplay):\n",
    "    display(speak(text,autoplay))"
   ]
  },
  {
   "cell_type": "code",
   "execution_count": 40,
   "metadata": {
    "tags": []
   },
   "outputs": [
    {
     "data": {
      "application/vnd.jupyter.widget-view+json": {
       "model_id": "df6acb61b66f4497b67535f381948fc5",
       "version_major": 2,
       "version_minor": 0
      },
      "text/plain": [
       "interactive(children=(IntSlider(value=50, description='grade'), Button(description='Run Interact', style=Butto…"
      ]
     },
     "metadata": {},
     "output_type": "display_data"
    }
   ],
   "source": [
    "@interact_manual(grade=(0,100))\n",
    "def on_click(grade):\n",
    "    display(pass_fail_grade(grade))"
   ]
  },
  {
   "cell_type": "code",
   "execution_count": 42,
   "metadata": {
    "tags": []
   },
   "outputs": [
    {
     "data": {
      "application/vnd.jupyter.widget-view+json": {
       "model_id": "e6a8130823e843baa5270d4452d6c158",
       "version_major": 2,
       "version_minor": 0
      },
      "text/plain": [
       "interactive(children=(Text(value='Peter', continuous_update=False, description='name'), Checkbox(value=False, …"
      ]
     },
     "metadata": {},
     "output_type": "display_data"
    }
   ],
   "source": [
    "# name, is school, age\n",
    "@interact_manual(name=\"Peter\", is_ischool=False, age=35)\n",
    "def on_click(name, is_ischool,age):\n",
    "    print(name, is_ischool, age+10)"
   ]
  },
  {
   "cell_type": "code",
   "execution_count": null,
   "metadata": {},
   "outputs": [],
   "source": []
  }
 ],
 "metadata": {
  "kernelspec": {
   "display_name": "Python 3 (ipykernel)",
   "language": "python",
   "name": "python3"
  },
  "language_info": {
   "codemirror_mode": {
    "name": "ipython",
    "version": 3
   },
   "file_extension": ".py",
   "mimetype": "text/x-python",
   "name": "python",
   "nbconvert_exporter": "python",
   "pygments_lexer": "ipython3",
   "version": "3.11.3"
  },
  "varInspector": {
   "cols": {
    "lenName": 16,
    "lenType": 16,
    "lenVar": 40
   },
   "kernels_config": {
    "python": {
     "delete_cmd_postfix": "",
     "delete_cmd_prefix": "del ",
     "library": "var_list.py",
     "varRefreshCmd": "print(var_dic_list())"
    },
    "r": {
     "delete_cmd_postfix": ") ",
     "delete_cmd_prefix": "rm(",
     "library": "var_list.r",
     "varRefreshCmd": "cat(var_dic_list()) "
    }
   },
   "position": {
    "height": "209.852px",
    "left": "603.5px",
    "right": "20px",
    "top": "120px",
    "width": "329px"
   },
   "types_to_exclude": [
    "module",
    "function",
    "builtin_function_or_method",
    "instance",
    "_Feature"
   ],
   "window_display": false
  }
 },
 "nbformat": 4,
 "nbformat_minor": 4
}
