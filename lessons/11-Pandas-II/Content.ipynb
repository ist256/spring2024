{
 "cells": [
  {
   "cell_type": "markdown",
   "metadata": {},
   "source": [
    "## Lesson 11: Data Analysis with Pandas II\n",
    "\n",
    "### Overview\n",
    "\n",
    "In this lesson we learn:\n",
    "\n",
    "- Advanced use cases for Pandas\n",
    "- Loading and Saving Data JSON with Pandas\n",
    "- Simple Web scraping with Pandas\n",
    "- Basic Pandas operations for DataFrames\n",
    "\n",
    "### Required Before Large Group\n",
    "\n",
    "- READ: [Fudge: Data Analysis with Pandas](https://ist256.com/readings/Data-Analysis-With-Pandas.html)\n",
    "- READ: [10 Minutes to Pandas](https://pandas.pydata.org/docs/user_guide/10min.html)\n",
    "<!-- - VIDEO: Python for Everybody: [Ch9 Part 1](https://youtu.be/yDDRMb-1cxI) | [Part 2](https://youtu.be/LRSIuH94XM4) | [Part 3](https://youtu.be/ZDjiFB1Ib84), by Charles Severance -->\n",
    "\n",
    "### Additional Resources\n",
    "\n",
    "- VIDEO: [Pandas for Beginners, Alex the Analyst](https://www.youtube.com/playlist?list=PLUaB-1hjhk8GZOuylZqLz-Qt9RIdZZMBE)\n",
    "<!-- - VIDEO: [End to End Example: Dictionaries, by Michael Fudge](https://youtu.be/l-2_Cq60trE)\n",
    "- VIDEO: [Lab Walk Through, by Michael Fudge](https://youtu.be/WIw7oXCtir0)\n",
    "- VIDEO: [Homework Advice, by Michael Fudge](https://youtu.be/rvSZhsvNQZk) -->\n",
    "\n",
    "\n"
   ]
  }
 ],
 "metadata": {
  "kernelspec": {
   "display_name": "Python 3 (ipykernel)",
   "language": "python",
   "name": "python3"
  },
  "language_info": {
   "codemirror_mode": {
    "name": "ipython",
    "version": 3
   },
   "file_extension": ".py",
   "mimetype": "text/x-python",
   "name": "python",
   "nbconvert_exporter": "python",
   "pygments_lexer": "ipython3",
   "version": "3.11.7"
  }
 },
 "nbformat": 4,
 "nbformat_minor": 4
}
