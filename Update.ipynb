{
 "cells": [
  {
   "cell_type": "markdown",
   "id": "82de3551-dfcf-49d0-964c-d9ffb0aa5194",
   "metadata": {},
   "source": [
    "# Update\n",
    "\n",
    "Run this code to get the latest files from your instructor!"
   ]
  },
  {
   "cell_type": "code",
   "execution_count": 1,
   "id": "157306a5-e89f-4caf-8415-ad5982b81475",
   "metadata": {
    "tags": []
   },
   "outputs": [
    {
     "name": "stdout",
     "output_type": "stream",
     "text": [
      "::: restoring git\n",
      "'/home/jovyan/library/.gitconfig' -> '/home/jovyan/.gitconfig'\n",
      "'/home/jovyan/library/.git-credentials' -> '/home/jovyan/.git-credentials'\n",
      "::: pulling tools\n",
      "$ git fetch\n",
      "\n",
      "From https://github.com/cent-ischool/casstools\n",
      "\n",
      "   176149a..2c9a482  main       -> origin/main\n",
      "\n",
      "$ git reset --mixed\n",
      "\n",
      "$ git -c user.email=nbgitpuller@nbgitpuller.link -c user.name=nbgitpuller merge -Xours origin/main\n",
      "\n",
      "Updating 176149a..2c9a482\n",
      "\n",
      "Fast-forward\n",
      "\n",
      " .casstools        |  1 +\n",
      "\n",
      " assignment.py     |  4 ++--\n",
      "\n",
      " notebook_tools.py | 22 ++++++++++++++++------\n",
      "\n",
      " version.py        |  1 +\n",
      "\n",
      " 4 files changed, 20 insertions(+), 8 deletions(-)\n",
      "\n",
      " create mode 120000 .casstools\n",
      "\n",
      "::: symlinking tools\n",
      "::: puller file spring2024.txt\n",
      "::: Puller course: ist256 This course: \n",
      "::: making ist256 folder\n",
      "::: Pulling https://github.com/ist256/spring2024.git on branch main for course  to path /home/jovyan/library/ist256/spring2024\n",
      "$ git fetch\n",
      "\n",
      "$ git reset --mixed\n",
      "\n",
      "Unstaged changes after reset:\n",
      "\n",
      "M\tlessons/02-Variables/HW-Variables.ipynb\n",
      "\n",
      "$ git -c user.email=nbgitpuller@nbgitpuller.link -c user.name=nbgitpuller commit -am Automatic commit by nbgitpuller --allow-empty\n",
      "\n",
      "[main b6053a1] Automatic commit by nbgitpuller\n",
      "\n",
      " 1 file changed, 35 insertions(+), 2 deletions(-)\n",
      "\n",
      "$ git -c user.email=nbgitpuller@nbgitpuller.link -c user.name=nbgitpuller merge -Xours origin/main\n",
      "\n",
      "Already up to date.\n",
      "\n",
      "::: Puller course: ist300 This course: \n",
      "::: making ist300 folder\n",
      "::: Pulling https://github.com/ist300/spring24.git on branch main for course  to path /home/jovyan/library/ist300/spring2024\n",
      "$ git fetch\n",
      "\n",
      "$ git reset --mixed\n",
      "\n",
      "$ git -c user.email=nbgitpuller@nbgitpuller.link -c user.name=nbgitpuller merge -Xours origin/main\n",
      "\n",
      "Already up to date.\n",
      "\n",
      "::: Puller course: ist652 This course: \n",
      "::: making ist652 folder\n",
      "::: Pulling https://github.com/ist652/spring24.git on branch main for course  to path /home/jovyan/library/ist652/spring24\n",
      "$ git fetch\n",
      "\n",
      "$ git reset --mixed\n",
      "\n",
      "$ git -c user.email=nbgitpuller@nbgitpuller.link -c user.name=nbgitpuller merge -Xours origin/main\n",
      "\n",
      "Already up to date.\n",
      "\n",
      "::: jupyter lab extensions on by default\n",
      "'/opt/plugin.jupyterlab-settings' -> '/home/jovyan/.jupyter/lab/user-settings/@jupyterlab/extensionmanager-extension/plugin.jupyterlab-settings'\n"
     ]
    }
   ],
   "source": [
    "!/opt/startup.sh"
   ]
  },
  {
   "cell_type": "code",
   "execution_count": null,
   "id": "a61c733e-ad9c-4bc6-8a85-16e50de3946b",
   "metadata": {},
   "outputs": [],
   "source": []
  },
  {
   "cell_type": "code",
   "execution_count": null,
   "id": "bf58d91a-0d11-4fa1-8c74-5bb271f354a1",
   "metadata": {},
   "outputs": [],
   "source": []
  },
  {
   "cell_type": "code",
   "execution_count": null,
   "id": "0eb88a69-39e2-490e-ab18-7e5bd9bae718",
   "metadata": {},
   "outputs": [],
   "source": []
  }
 ],
 "metadata": {
  "kernelspec": {
   "display_name": "Python 3 (ipykernel)",
   "language": "python",
   "name": "python3"
  },
  "language_info": {
   "codemirror_mode": {
    "name": "ipython",
    "version": 3
   },
   "file_extension": ".py",
   "mimetype": "text/x-python",
   "name": "python",
   "nbconvert_exporter": "python",
   "pygments_lexer": "ipython3",
   "version": "3.11.7"
  }
 },
 "nbformat": 4,
 "nbformat_minor": 5
}
