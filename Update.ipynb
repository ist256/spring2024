{
 "cells": [
  {
   "cell_type": "markdown",
   "id": "82de3551-dfcf-49d0-964c-d9ffb0aa5194",
   "metadata": {},
   "source": [
    "# Update\n",
    "\n",
    "Run this code to get the latest files from your instructor!"
   ]
  },
  {
   "cell_type": "code",
   "execution_count": 2,
   "id": "157306a5-e89f-4caf-8415-ad5982b81475",
   "metadata": {
    "tags": []
   },
   "outputs": [],
   "source": [
    "!/opt/startup.sh > /dev/null"
   ]
  },
  {
   "cell_type": "code",
   "execution_count": null,
   "id": "a61c733e-ad9c-4bc6-8a85-16e50de3946b",
   "metadata": {},
   "outputs": [],
   "source": []
  }
 ],
 "metadata": {
  "kernelspec": {
   "display_name": "Python 3 (ipykernel)",
   "language": "python",
   "name": "python3"
  },
  "language_info": {
   "codemirror_mode": {
    "name": "ipython",
    "version": 3
   },
   "file_extension": ".py",
   "mimetype": "text/x-python",
   "name": "python",
   "nbconvert_exporter": "python",
   "pygments_lexer": "ipython3",
   "version": "3.11.7"
  }
 },
 "nbformat": 4,
 "nbformat_minor": 5
}
